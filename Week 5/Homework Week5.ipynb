{
 "cells": [
  {
   "cell_type": "markdown",
   "metadata": {},
   "source": [
    "### Question 1"
   ]
  },
  {
   "cell_type": "markdown",
   "metadata": {},
   "source": [
    "What's the version of pipenv you installed ?\n"
   ]
  },
  {
   "cell_type": "markdown",
   "metadata": {},
   "source": [
    "```bash pipenv--version```"
   ]
  },
  {
   "cell_type": "markdown",
   "metadata": {},
   "source": [
    "### Question 2"
   ]
  },
  {
   "cell_type": "markdown",
   "metadata": {},
   "source": [
    "Use Pipenv to install Scikit-Learn version 1.5.2\\\n",
    "What's the first hash for scikit-learn you get in Pipfile.lock?"
   ]
  },
  {
   "cell_type": "code",
   "execution_count": 2,
   "metadata": {},
   "outputs": [],
   "source": [
    "import json "
   ]
  },
  {
   "cell_type": "code",
   "execution_count": 3,
   "metadata": {},
   "outputs": [],
   "source": [
    "with open('Pipfile.lock','r') as f:\n",
    "    pipfile_lock = json.load(f)"
   ]
  },
  {
   "cell_type": "code",
   "execution_count": 5,
   "metadata": {},
   "outputs": [
    {
     "data": {
      "text/plain": [
       "'sha256:03b6158efa3faaf1feea3faa884c840ebd61b6484167c711548fce208ea09445'"
      ]
     },
     "execution_count": 5,
     "metadata": {},
     "output_type": "execute_result"
    }
   ],
   "source": [
    "scikit_learn_hashes = pipfile_lock['default']['scikit-learn']['hashes']\n",
    "first_hash = scikit_learn_hashes[0]\n",
    "first_hash"
   ]
  },
  {
   "cell_type": "markdown",
   "metadata": {},
   "source": [
    "### Getting the models using wget"
   ]
  },
  {
   "cell_type": "markdown",
   "metadata": {},
   "source": [
    "Since we are using windows, we will use the following command to download the models\n",
    "\n",
    "```bash\n",
    "$PREFIX = \"https://raw.githubusercontent.com/DataTalksClub/machine-learning-zoomcamp/master/cohorts/2024/05-deployment/homework\"\n",
    "Invoke-WebRequest -Uri \"$PREFIX/model1.bin\" -OutFile \"model1.bin\"\n",
    "Invoke-WebRequest -Uri \"$PREFIX/dv.bin\" -OutFile \"dv.bin\"\n",
    "```\n"
   ]
  },
  {
   "cell_type": "markdown",
   "metadata": {},
   "source": [
    "### Question 3"
   ]
  },
  {
   "cell_type": "code",
   "execution_count": 6,
   "metadata": {},
   "outputs": [],
   "source": [
    "import pickle"
   ]
  },
  {
   "cell_type": "code",
   "execution_count": 7,
   "metadata": {},
   "outputs": [],
   "source": [
    "# Loadingt the dict vectorizer from the file using pickle\n",
    "with open('dv.bin', 'rb') as f_in:\n",
    "    dv = pickle.load(f_in)"
   ]
  },
  {
   "cell_type": "code",
   "execution_count": 8,
   "metadata": {},
   "outputs": [],
   "source": [
    "# Loading the model from the file using pickle \n",
    "with open('model1.bin', 'rb') as f_in:\n",
    "    model = pickle.load(f_in)"
   ]
  },
  {
   "cell_type": "code",
   "execution_count": 9,
   "metadata": {},
   "outputs": [],
   "source": [
    "client = {\"job\": \"management\", \"duration\": 400, \"poutcome\": \"success\"}"
   ]
  },
  {
   "cell_type": "code",
   "execution_count": 10,
   "metadata": {},
   "outputs": [
    {
     "data": {
      "text/plain": [
       "0.7590966516879658"
      ]
     },
     "execution_count": 10,
     "metadata": {},
     "output_type": "execute_result"
    }
   ],
   "source": [
    "X = dv.transform([client]) # Transforming the input data using the dict vectorizer\n",
    "y_pred = model.predict_proba(X)[0,1] # Predicting the probability of the input data using the model\n",
    "y_pred"
   ]
  },
  {
   "cell_type": "markdown",
   "metadata": {},
   "source": [
    "### Question 4"
   ]
  },
  {
   "cell_type": "code",
   "execution_count": 20,
   "metadata": {},
   "outputs": [],
   "source": [
    "from flask import Flask, request, jsonify\n",
    "from waitress import serve"
   ]
  },
  {
   "cell_type": "code",
   "execution_count": 1,
   "metadata": {},
   "outputs": [
    {
     "data": {
      "text/plain": [
       "'\\n# Initialize the Flask app\\napp = Flask(\\'churn\\')\\n\\n@app.route(\\'/predict\\', methods=[\\'POST\\'])\\ndef predict():\\n    # Get the input JSON data\\n    client_data = request.get_json()\\n\\n    \\n    X = dv.transform([client_data]) # Transforming the input data using the dict vectorizer   \\n    y_pred = model.predict_proba(X)[0, 1] # Predicting the probability of the input data using the model\\n    result = {\\'predicted_probability\\': float(y_pred)}\\n    return jsonify(result)\\n\\n# Run the app\\nif __name__ == \"__main__\":\\n    serve(app, host=\\'0.0.0.0\\', port=9696) \\n'"
      ]
     },
     "execution_count": 1,
     "metadata": {},
     "output_type": "execute_result"
    }
   ],
   "source": [
    "\"\"\"\n",
    "# Initialize the Flask app\n",
    "app = Flask('churn')\n",
    "\n",
    "@app.route('/predict', methods=['POST'])\n",
    "def predict():\n",
    "    # Get the input JSON data\n",
    "    client_data = request.get_json()\n",
    "\n",
    "    \n",
    "    X = dv.transform([client_data]) # Transforming the input data using the dict vectorizer   \n",
    "    y_pred = model.predict_proba(X)[0, 1] # Predicting the probability of the input data using the model\n",
    "    result = {'predicted_probability': float(y_pred)}\n",
    "    return jsonify(result)\n",
    "\n",
    "# Run the app\n",
    "if __name__ == \"__main__\":\n",
    "    serve(app, host='0.0.0.0', port=9696) \n",
    "\"\"\"\n"
   ]
  },
  {
   "cell_type": "code",
   "execution_count": 2,
   "metadata": {},
   "outputs": [
    {
     "data": {
      "text/plain": [
       "'\\nimport requests\\n\\n# Replace with the actual URL of your Flask app\\nurl = \"http://localhost:9696/predict\"\\n\\n# Client data to score\\nclient = {\"job\": \"student\", \"duration\": 280, \"poutcome\": \"failure\"}\\n\\n# Send a POST request to the Flask app\\nresponse = requests.post(url, json=client)\\n\\n# Get the JSON response\\nresult = response.json()\\n\\n# Print the predicted probability\\nprint(result)\\n'"
      ]
     },
     "execution_count": 2,
     "metadata": {},
     "output_type": "execute_result"
    }
   ],
   "source": [
    "\"\"\"\n",
    "import requests\n",
    "\n",
    "# Replace with the actual URL of your Flask app\n",
    "url = \"http://localhost:9696/predict\"\n",
    "\n",
    "# Client data to score\n",
    "client = {\"job\": \"student\", \"duration\": 280, \"poutcome\": \"failure\"}\n",
    "\n",
    "# Send a POST request to the Flask app\n",
    "response = requests.post(url, json=client)\n",
    "\n",
    "# Get the JSON response\n",
    "result = response.json()\n",
    "\n",
    "# Print the predicted probability\n",
    "print(result)\n",
    "\"\"\""
   ]
  },
  {
   "cell_type": "markdown",
   "metadata": {},
   "source": [
    "### Question 5"
   ]
  },
  {
   "cell_type": "markdown",
   "metadata": {},
   "source": [
    "docker pull svizor/zoomcamp-model:3.11.5-slim \\\n",
    "\n",
    "docker run -it --rm svizor/zoomcamp-model:3.11.5-slim\n",
    "\n",
    "docker images \n"
   ]
  },
  {
   "cell_type": "markdown",
   "metadata": {},
   "source": [
    "### Question 6"
   ]
  },
  {
   "cell_type": "code",
   "execution_count": null,
   "metadata": {},
   "outputs": [],
   "source": []
  }
 ],
 "metadata": {
  "kernelspec": {
   "display_name": "Python 3",
   "language": "python",
   "name": "python3"
  },
  "language_info": {
   "codemirror_mode": {
    "name": "ipython",
    "version": 3
   },
   "file_extension": ".py",
   "mimetype": "text/x-python",
   "name": "python",
   "nbconvert_exporter": "python",
   "pygments_lexer": "ipython3",
   "version": "3.11.2"
  }
 },
 "nbformat": 4,
 "nbformat_minor": 2
}
