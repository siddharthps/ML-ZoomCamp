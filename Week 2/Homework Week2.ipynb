{
 "cells": [
  {
   "cell_type": "code",
   "execution_count": 1,
   "metadata": {},
   "outputs": [],
   "source": [
    "import pandas as pd\n",
    "import numpy as np\n",
    "from sklearn.metrics import mean_squared_error"
   ]
  },
  {
   "cell_type": "markdown",
   "metadata": {},
   "source": [
    "#### Getting the Data"
   ]
  },
  {
   "cell_type": "code",
   "execution_count": 2,
   "metadata": {},
   "outputs": [
    {
     "name": "stdout",
     "output_type": "stream",
     "text": [
      "File 'laptops.csv' downloaded successfully!\n"
     ]
    }
   ],
   "source": [
    "import requests\n",
    "\n",
    "# Define the URL of the file\n",
    "data_url = 'https://raw.githubusercontent.com/alexeygrigorev/datasets/master/laptops.csv'\n",
    "\n",
    "# Send a GET request to the URL\n",
    "response = requests.get(data_url)\n",
    "\n",
    "# Save the content of the response as 'laptops.csv'\n",
    "with open('laptops.csv', 'wb') as file:\n",
    "    file.write(response.content)\n",
    "\n",
    "print(\"File 'laptops.csv' downloaded successfully!\")"
   ]
  },
  {
   "cell_type": "markdown",
   "metadata": {},
   "source": []
  },
  {
   "cell_type": "code",
   "execution_count": 3,
   "metadata": {},
   "outputs": [],
   "source": [
    "df = pd.read_csv('laptops.csv')\n"
   ]
  },
  {
   "cell_type": "code",
   "execution_count": 4,
   "metadata": {},
   "outputs": [
    {
     "data": {
      "text/html": [
       "<div>\n",
       "<style scoped>\n",
       "    .dataframe tbody tr th:only-of-type {\n",
       "        vertical-align: middle;\n",
       "    }\n",
       "\n",
       "    .dataframe tbody tr th {\n",
       "        vertical-align: top;\n",
       "    }\n",
       "\n",
       "    .dataframe thead th {\n",
       "        text-align: right;\n",
       "    }\n",
       "</style>\n",
       "<table border=\"1\" class=\"dataframe\">\n",
       "  <thead>\n",
       "    <tr style=\"text-align: right;\">\n",
       "      <th></th>\n",
       "      <th>Laptop</th>\n",
       "      <th>Status</th>\n",
       "      <th>Brand</th>\n",
       "      <th>Model</th>\n",
       "      <th>CPU</th>\n",
       "      <th>RAM</th>\n",
       "      <th>Storage</th>\n",
       "      <th>Storage type</th>\n",
       "      <th>GPU</th>\n",
       "      <th>Screen</th>\n",
       "      <th>Touch</th>\n",
       "      <th>Final Price</th>\n",
       "    </tr>\n",
       "  </thead>\n",
       "  <tbody>\n",
       "    <tr>\n",
       "      <th>0</th>\n",
       "      <td>ASUS ExpertBook B1 B1502CBA-EJ0436X Intel Core...</td>\n",
       "      <td>New</td>\n",
       "      <td>Asus</td>\n",
       "      <td>ExpertBook</td>\n",
       "      <td>Intel Core i5</td>\n",
       "      <td>8</td>\n",
       "      <td>512</td>\n",
       "      <td>SSD</td>\n",
       "      <td>NaN</td>\n",
       "      <td>15.6</td>\n",
       "      <td>No</td>\n",
       "      <td>1009.00</td>\n",
       "    </tr>\n",
       "    <tr>\n",
       "      <th>1</th>\n",
       "      <td>Alurin Go Start Intel Celeron N4020/8GB/256GB ...</td>\n",
       "      <td>New</td>\n",
       "      <td>Alurin</td>\n",
       "      <td>Go</td>\n",
       "      <td>Intel Celeron</td>\n",
       "      <td>8</td>\n",
       "      <td>256</td>\n",
       "      <td>SSD</td>\n",
       "      <td>NaN</td>\n",
       "      <td>15.6</td>\n",
       "      <td>No</td>\n",
       "      <td>299.00</td>\n",
       "    </tr>\n",
       "    <tr>\n",
       "      <th>2</th>\n",
       "      <td>ASUS ExpertBook B1 B1502CBA-EJ0424X Intel Core...</td>\n",
       "      <td>New</td>\n",
       "      <td>Asus</td>\n",
       "      <td>ExpertBook</td>\n",
       "      <td>Intel Core i3</td>\n",
       "      <td>8</td>\n",
       "      <td>256</td>\n",
       "      <td>SSD</td>\n",
       "      <td>NaN</td>\n",
       "      <td>15.6</td>\n",
       "      <td>No</td>\n",
       "      <td>789.00</td>\n",
       "    </tr>\n",
       "    <tr>\n",
       "      <th>3</th>\n",
       "      <td>MSI Katana GF66 12UC-082XES Intel Core i7-1270...</td>\n",
       "      <td>New</td>\n",
       "      <td>MSI</td>\n",
       "      <td>Katana</td>\n",
       "      <td>Intel Core i7</td>\n",
       "      <td>16</td>\n",
       "      <td>1000</td>\n",
       "      <td>SSD</td>\n",
       "      <td>RTX 3050</td>\n",
       "      <td>15.6</td>\n",
       "      <td>No</td>\n",
       "      <td>1199.00</td>\n",
       "    </tr>\n",
       "    <tr>\n",
       "      <th>4</th>\n",
       "      <td>HP 15S-FQ5085NS Intel Core i5-1235U/16GB/512GB...</td>\n",
       "      <td>New</td>\n",
       "      <td>HP</td>\n",
       "      <td>15S</td>\n",
       "      <td>Intel Core i5</td>\n",
       "      <td>16</td>\n",
       "      <td>512</td>\n",
       "      <td>SSD</td>\n",
       "      <td>NaN</td>\n",
       "      <td>15.6</td>\n",
       "      <td>No</td>\n",
       "      <td>669.01</td>\n",
       "    </tr>\n",
       "  </tbody>\n",
       "</table>\n",
       "</div>"
      ],
      "text/plain": [
       "                                              Laptop Status   Brand  \\\n",
       "0  ASUS ExpertBook B1 B1502CBA-EJ0436X Intel Core...    New    Asus   \n",
       "1  Alurin Go Start Intel Celeron N4020/8GB/256GB ...    New  Alurin   \n",
       "2  ASUS ExpertBook B1 B1502CBA-EJ0424X Intel Core...    New    Asus   \n",
       "3  MSI Katana GF66 12UC-082XES Intel Core i7-1270...    New     MSI   \n",
       "4  HP 15S-FQ5085NS Intel Core i5-1235U/16GB/512GB...    New      HP   \n",
       "\n",
       "        Model            CPU  RAM  Storage Storage type       GPU  Screen  \\\n",
       "0  ExpertBook  Intel Core i5    8      512          SSD       NaN    15.6   \n",
       "1          Go  Intel Celeron    8      256          SSD       NaN    15.6   \n",
       "2  ExpertBook  Intel Core i3    8      256          SSD       NaN    15.6   \n",
       "3      Katana  Intel Core i7   16     1000          SSD  RTX 3050    15.6   \n",
       "4         15S  Intel Core i5   16      512          SSD       NaN    15.6   \n",
       "\n",
       "  Touch  Final Price  \n",
       "0    No      1009.00  \n",
       "1    No       299.00  \n",
       "2    No       789.00  \n",
       "3    No      1199.00  \n",
       "4    No       669.01  "
      ]
     },
     "execution_count": 4,
     "metadata": {},
     "output_type": "execute_result"
    }
   ],
   "source": [
    "df.head(5)"
   ]
  },
  {
   "cell_type": "code",
   "execution_count": 5,
   "metadata": {},
   "outputs": [],
   "source": [
    "# Normalize the column names\n",
    "\n",
    "df.columns = df.columns.str.lower().str.replace(' ', '_')"
   ]
  },
  {
   "cell_type": "code",
   "execution_count": 6,
   "metadata": {},
   "outputs": [
    {
     "data": {
      "text/html": [
       "<div>\n",
       "<style scoped>\n",
       "    .dataframe tbody tr th:only-of-type {\n",
       "        vertical-align: middle;\n",
       "    }\n",
       "\n",
       "    .dataframe tbody tr th {\n",
       "        vertical-align: top;\n",
       "    }\n",
       "\n",
       "    .dataframe thead th {\n",
       "        text-align: right;\n",
       "    }\n",
       "</style>\n",
       "<table border=\"1\" class=\"dataframe\">\n",
       "  <thead>\n",
       "    <tr style=\"text-align: right;\">\n",
       "      <th></th>\n",
       "      <th>laptop</th>\n",
       "      <th>status</th>\n",
       "      <th>brand</th>\n",
       "      <th>model</th>\n",
       "      <th>cpu</th>\n",
       "      <th>ram</th>\n",
       "      <th>storage</th>\n",
       "      <th>storage_type</th>\n",
       "      <th>gpu</th>\n",
       "      <th>screen</th>\n",
       "      <th>touch</th>\n",
       "      <th>final_price</th>\n",
       "    </tr>\n",
       "  </thead>\n",
       "  <tbody>\n",
       "    <tr>\n",
       "      <th>0</th>\n",
       "      <td>ASUS ExpertBook B1 B1502CBA-EJ0436X Intel Core...</td>\n",
       "      <td>New</td>\n",
       "      <td>Asus</td>\n",
       "      <td>ExpertBook</td>\n",
       "      <td>Intel Core i5</td>\n",
       "      <td>8</td>\n",
       "      <td>512</td>\n",
       "      <td>SSD</td>\n",
       "      <td>NaN</td>\n",
       "      <td>15.6</td>\n",
       "      <td>No</td>\n",
       "      <td>1009.00</td>\n",
       "    </tr>\n",
       "    <tr>\n",
       "      <th>1</th>\n",
       "      <td>Alurin Go Start Intel Celeron N4020/8GB/256GB ...</td>\n",
       "      <td>New</td>\n",
       "      <td>Alurin</td>\n",
       "      <td>Go</td>\n",
       "      <td>Intel Celeron</td>\n",
       "      <td>8</td>\n",
       "      <td>256</td>\n",
       "      <td>SSD</td>\n",
       "      <td>NaN</td>\n",
       "      <td>15.6</td>\n",
       "      <td>No</td>\n",
       "      <td>299.00</td>\n",
       "    </tr>\n",
       "    <tr>\n",
       "      <th>2</th>\n",
       "      <td>ASUS ExpertBook B1 B1502CBA-EJ0424X Intel Core...</td>\n",
       "      <td>New</td>\n",
       "      <td>Asus</td>\n",
       "      <td>ExpertBook</td>\n",
       "      <td>Intel Core i3</td>\n",
       "      <td>8</td>\n",
       "      <td>256</td>\n",
       "      <td>SSD</td>\n",
       "      <td>NaN</td>\n",
       "      <td>15.6</td>\n",
       "      <td>No</td>\n",
       "      <td>789.00</td>\n",
       "    </tr>\n",
       "    <tr>\n",
       "      <th>3</th>\n",
       "      <td>MSI Katana GF66 12UC-082XES Intel Core i7-1270...</td>\n",
       "      <td>New</td>\n",
       "      <td>MSI</td>\n",
       "      <td>Katana</td>\n",
       "      <td>Intel Core i7</td>\n",
       "      <td>16</td>\n",
       "      <td>1000</td>\n",
       "      <td>SSD</td>\n",
       "      <td>RTX 3050</td>\n",
       "      <td>15.6</td>\n",
       "      <td>No</td>\n",
       "      <td>1199.00</td>\n",
       "    </tr>\n",
       "    <tr>\n",
       "      <th>4</th>\n",
       "      <td>HP 15S-FQ5085NS Intel Core i5-1235U/16GB/512GB...</td>\n",
       "      <td>New</td>\n",
       "      <td>HP</td>\n",
       "      <td>15S</td>\n",
       "      <td>Intel Core i5</td>\n",
       "      <td>16</td>\n",
       "      <td>512</td>\n",
       "      <td>SSD</td>\n",
       "      <td>NaN</td>\n",
       "      <td>15.6</td>\n",
       "      <td>No</td>\n",
       "      <td>669.01</td>\n",
       "    </tr>\n",
       "  </tbody>\n",
       "</table>\n",
       "</div>"
      ],
      "text/plain": [
       "                                              laptop status   brand  \\\n",
       "0  ASUS ExpertBook B1 B1502CBA-EJ0436X Intel Core...    New    Asus   \n",
       "1  Alurin Go Start Intel Celeron N4020/8GB/256GB ...    New  Alurin   \n",
       "2  ASUS ExpertBook B1 B1502CBA-EJ0424X Intel Core...    New    Asus   \n",
       "3  MSI Katana GF66 12UC-082XES Intel Core i7-1270...    New     MSI   \n",
       "4  HP 15S-FQ5085NS Intel Core i5-1235U/16GB/512GB...    New      HP   \n",
       "\n",
       "        model            cpu  ram  storage storage_type       gpu  screen  \\\n",
       "0  ExpertBook  Intel Core i5    8      512          SSD       NaN    15.6   \n",
       "1          Go  Intel Celeron    8      256          SSD       NaN    15.6   \n",
       "2  ExpertBook  Intel Core i3    8      256          SSD       NaN    15.6   \n",
       "3      Katana  Intel Core i7   16     1000          SSD  RTX 3050    15.6   \n",
       "4         15S  Intel Core i5   16      512          SSD       NaN    15.6   \n",
       "\n",
       "  touch  final_price  \n",
       "0    No      1009.00  \n",
       "1    No       299.00  \n",
       "2    No       789.00  \n",
       "3    No      1199.00  \n",
       "4    No       669.01  "
      ]
     },
     "execution_count": 6,
     "metadata": {},
     "output_type": "execute_result"
    }
   ],
   "source": [
    "df.head(5)"
   ]
  },
  {
   "cell_type": "code",
   "execution_count": 7,
   "metadata": {},
   "outputs": [
    {
     "data": {
      "text/html": [
       "<div>\n",
       "<style scoped>\n",
       "    .dataframe tbody tr th:only-of-type {\n",
       "        vertical-align: middle;\n",
       "    }\n",
       "\n",
       "    .dataframe tbody tr th {\n",
       "        vertical-align: top;\n",
       "    }\n",
       "\n",
       "    .dataframe thead th {\n",
       "        text-align: right;\n",
       "    }\n",
       "</style>\n",
       "<table border=\"1\" class=\"dataframe\">\n",
       "  <thead>\n",
       "    <tr style=\"text-align: right;\">\n",
       "      <th></th>\n",
       "      <th>ram</th>\n",
       "      <th>storage</th>\n",
       "      <th>screen</th>\n",
       "      <th>final_price</th>\n",
       "    </tr>\n",
       "  </thead>\n",
       "  <tbody>\n",
       "    <tr>\n",
       "      <th>0</th>\n",
       "      <td>8</td>\n",
       "      <td>512</td>\n",
       "      <td>15.6</td>\n",
       "      <td>1009.00</td>\n",
       "    </tr>\n",
       "    <tr>\n",
       "      <th>1</th>\n",
       "      <td>8</td>\n",
       "      <td>256</td>\n",
       "      <td>15.6</td>\n",
       "      <td>299.00</td>\n",
       "    </tr>\n",
       "    <tr>\n",
       "      <th>2</th>\n",
       "      <td>8</td>\n",
       "      <td>256</td>\n",
       "      <td>15.6</td>\n",
       "      <td>789.00</td>\n",
       "    </tr>\n",
       "    <tr>\n",
       "      <th>3</th>\n",
       "      <td>16</td>\n",
       "      <td>1000</td>\n",
       "      <td>15.6</td>\n",
       "      <td>1199.00</td>\n",
       "    </tr>\n",
       "    <tr>\n",
       "      <th>4</th>\n",
       "      <td>16</td>\n",
       "      <td>512</td>\n",
       "      <td>15.6</td>\n",
       "      <td>669.01</td>\n",
       "    </tr>\n",
       "  </tbody>\n",
       "</table>\n",
       "</div>"
      ],
      "text/plain": [
       "   ram  storage  screen  final_price\n",
       "0    8      512    15.6      1009.00\n",
       "1    8      256    15.6       299.00\n",
       "2    8      256    15.6       789.00\n",
       "3   16     1000    15.6      1199.00\n",
       "4   16      512    15.6       669.01"
      ]
     },
     "execution_count": 7,
     "metadata": {},
     "output_type": "execute_result"
    }
   ],
   "source": [
    "# Select only the specified columns\n",
    "df = df[['ram', 'storage', 'screen', 'final_price']]\n",
    "df.head(5)"
   ]
  },
  {
   "cell_type": "markdown",
   "metadata": {},
   "source": [
    "#### EDA"
   ]
  },
  {
   "cell_type": "code",
   "execution_count": 8,
   "metadata": {},
   "outputs": [],
   "source": [
    "import matplotlib.pyplot as plt\n",
    "import seaborn as sns\n",
    "\n",
    "# Set the style for the plots\n",
    "sns.set(style='whitegrid')\n"
   ]
  },
  {
   "cell_type": "code",
   "execution_count": 9,
   "metadata": {},
   "outputs": [
    {
     "data": {
      "text/plain": [
       "<Axes: xlabel='final_price', ylabel='Count'>"
      ]
     },
     "execution_count": 9,
     "metadata": {},
     "output_type": "execute_result"
    },
    {
     "data": {
      "image/png": "[encoded data removed]",
      "text/plain": [
       "<Figure size 1200x600 with 1 Axes>"
      ]
     },
     "metadata": {},
     "output_type": "display_data"
    }
   ],
   "source": [
    "# Plotting the histogram\n",
    "plt.figure(figsize=(12, 6))\n",
    "sns.histplot(df['final_price'], bins=50, kde=True)"
   ]
  },
  {
   "cell_type": "code",
   "execution_count": 10,
   "metadata": {},
   "outputs": [
    {
     "data": {
      "text/plain": [
       "<Axes: xlabel='final_price'>"
      ]
     },
     "execution_count": 10,
     "metadata": {},
     "output_type": "execute_result"
    },
    {
     "data": {
      "image/png": "[encoded data removed]",
      "text/plain": [
       "<Figure size 800x400 with 1 Axes>"
      ]
     },
     "metadata": {},
     "output_type": "display_data"
    }
   ],
   "source": [
    "plt.figure(figsize=(8, 4))\n",
    "sns.boxplot(x=df['final_price'])"
   ]
  },
  {
   "cell_type": "markdown",
   "metadata": {},
   "source": [
    "We can see that final_price column does indeed have a long tail according to the histogram and the boxplot"
   ]
  },
  {
   "cell_type": "markdown",
   "metadata": {},
   "source": [
    "### Question 1 : There's one column with missing values. What is it?"
   ]
  },
  {
   "cell_type": "code",
   "execution_count": 11,
   "metadata": {},
   "outputs": [
    {
     "data": {
      "text/plain": [
       "ram            0\n",
       "storage        0\n",
       "screen         4\n",
       "final_price    0\n",
       "dtype: int64"
      ]
     },
     "execution_count": 11,
     "metadata": {},
     "output_type": "execute_result"
    }
   ],
   "source": [
    "df.isnull().sum()\n"
   ]
  },
  {
   "cell_type": "markdown",
   "metadata": {},
   "source": [
    "### Question 2 What's the median (50% percentile) for variable 'ram'?"
   ]
  },
  {
   "cell_type": "code",
   "execution_count": 12,
   "metadata": {},
   "outputs": [
    {
     "data": {
      "text/plain": [
       "16.0"
      ]
     },
     "execution_count": 12,
     "metadata": {},
     "output_type": "execute_result"
    }
   ],
   "source": [
    "df['ram'].median()"
   ]
  },
  {
   "cell_type": "markdown",
   "metadata": {},
   "source": [
    "#### Prepare and split the dataset"
   ]
  },
  {
   "cell_type": "code",
   "execution_count": 13,
   "metadata": {},
   "outputs": [],
   "source": [
    "n = len(df)\n",
    "\n",
    "n_val = int(n * 0.2)  # Number of validation samples\n",
    "n_test = int(n * 0.2)  # Number of test samples\n",
    "n_train = n - n_val - n_test  # Number of training samples"
   ]
  },
  {
   "cell_type": "code",
   "execution_count": 14,
   "metadata": {},
   "outputs": [
    {
     "data": {
      "text/plain": [
       "(2160, 432, 432, 1296)"
      ]
     },
     "execution_count": 14,
     "metadata": {},
     "output_type": "execute_result"
    }
   ],
   "source": [
    "n , n_val, n_test, n_train "
   ]
  },
  {
   "cell_type": "code",
   "execution_count": 15,
   "metadata": {},
   "outputs": [],
   "source": [
    "idx = np.arange(n) # Create an array of indices from 0 to n-1\n",
    "np.random.seed(42) # Set the random seed to 42\n",
    "np.random.shuffle(idx) # Shuffle the indices"
   ]
  },
  {
   "cell_type": "code",
   "execution_count": 16,
   "metadata": {},
   "outputs": [],
   "source": [
    "df_train = df.iloc[idx[:n_train]]\n",
    "df_val = df.iloc[idx[n_train:n_train+n_val]]\n",
    "df_test = df.iloc[idx[n_train+n_val:]]"
   ]
  },
  {
   "cell_type": "markdown",
   "metadata": {},
   "source": [
    "### Question 3"
   ]
  },
  {
   "cell_type": "code",
   "execution_count": 17,
   "metadata": {},
   "outputs": [],
   "source": [
    "def train_linear_regression(X, y):\n",
    "    ones = np.ones(X.shape[0])\n",
    "    X = np.column_stack([ones, X])\n",
    "\n",
    "    XTX = X.T.dot(X)\n",
    "    XTX_inv = np.linalg.inv(XTX)\n",
    "    w_full = XTX_inv.dot(X.T).dot(y)\n",
    "    \n",
    "    return w_full[0], w_full[1:]"
   ]
  },
  {
   "cell_type": "code",
   "execution_count": 18,
   "metadata": {},
   "outputs": [],
   "source": [
    "# Function to calculate RMSE\n",
    "def rmse(y_true, y_pred):\n",
    "    return np.sqrt(mean_squared_error(y_true, y_pred))"
   ]
  },
  {
   "cell_type": "code",
   "execution_count": 19,
   "metadata": {},
   "outputs": [],
   "source": [
    "# Prepare features and target variable\n",
    "def prepare_X(df):\n",
    "    X = df[['ram', 'storage', 'screen']].values\n",
    "    return X\n",
    "\n",
    "# Prepare target variable\n",
    "def prepare_y(df):\n",
    "    return df['final_price'].values"
   ]
  },
  {
   "cell_type": "code",
   "execution_count": 20,
   "metadata": {},
   "outputs": [],
   "source": [
    "# Train and evaluate model\n",
    "def train_and_evaluate(df_train, df_val, fill_value):\n",
    "    # Fill missing values in 'screen' column\n",
    "    df_train_filled = df_train.copy()\n",
    "    df_val_filled = df_val.copy()\n",
    "\n",
    "    df_train_filled['screen'] = df_train_filled['screen'].fillna(fill_value)\n",
    "    df_val_filled['screen'] = df_val_filled['screen'].fillna(fill_value)\n",
    "\n",
    "    # Prepare feature matrices\n",
    "    X_train = prepare_X(df_train_filled)\n",
    "    y_train = prepare_y(df_train_filled)\n",
    "    X_val = prepare_X(df_val_filled)\n",
    "    y_val = prepare_y(df_val_filled)\n",
    "\n",
    "    # Train the model\n",
    "    w_0, w = train_linear_regression(X_train, y_train)\n",
    "\n",
    "    # Make predictions on validation set\n",
    "    y_pred = w_0 + X_val.dot(w)\n",
    "\n",
    "    # Compute RMSE on validation set\n",
    "    return rmse(y_val, y_pred)"
   ]
  },
  {
   "cell_type": "code",
   "execution_count": 21,
   "metadata": {},
   "outputs": [
    {
     "name": "stdout",
     "output_type": "stream",
     "text": [
      "RMSE with 'screen' filled with 0: 597.36\n"
     ]
    }
   ],
   "source": [
    "# Fill missing 'screen' values with 0\n",
    "rmse_fill_0 = train_and_evaluate(df_train, df_val, 0)\n",
    "print(f\"RMSE with 'screen' filled with 0: {round(rmse_fill_0, 2)}\")"
   ]
  },
  {
   "cell_type": "code",
   "execution_count": 22,
   "metadata": {},
   "outputs": [
    {
     "name": "stdout",
     "output_type": "stream",
     "text": [
      "RMSE with 'screen' filled with mean: 600.27\n"
     ]
    }
   ],
   "source": [
    "# Fill missing 'screen' values with mean from the training set\n",
    "mean_screen = df_train['screen'].mean()\n",
    "rmse_fill_mean = train_and_evaluate(df_train, df_val, mean_screen)\n",
    "print(f\"RMSE with 'screen' filled with mean: {round(rmse_fill_mean, 2)}\")"
   ]
  },
  {
   "cell_type": "markdown",
   "metadata": {},
   "source": [
    "### Question 4"
   ]
  },
  {
   "cell_type": "code",
   "execution_count": 23,
   "metadata": {},
   "outputs": [],
   "source": [
    "def train_linear_regression_reg(X, y, r=0.0):\n",
    "    ones = np.ones(X.shape[0])\n",
    "    X = np.column_stack([ones, X])\n",
    "\n",
    "    XTX = X.T.dot(X)\n",
    "    reg_matrix = r * np.eye(XTX.shape[0])  # Regularization term\n",
    "    XTX = XTX + reg_matrix  # Adding regularization\n",
    "\n",
    "    XTX_inv = np.linalg.inv(XTX)\n",
    "    w_full = XTX_inv.dot(X.T).dot(y)\n",
    "    \n",
    "    return w_full[0], w_full[1:]\n"
   ]
  },
  {
   "cell_type": "code",
   "execution_count": 24,
   "metadata": {},
   "outputs": [],
   "source": [
    "# List of regularization values to try\n",
    "r_values = [0, 0.01, 0.1, 1, 5, 10, 100]"
   ]
  },
  {
   "cell_type": "code",
   "execution_count": 25,
   "metadata": {},
   "outputs": [],
   "source": [
    "def train_and_evaluate_reg(df_train, df_val, r):\n",
    "    # Fill missing values in 'screen' column with 0\n",
    "    df_train_filled = df_train.copy()\n",
    "    df_val_filled = df_val.copy()\n",
    "\n",
    "    df_train_filled['screen'] = df_train_filled['screen'].fillna(0)\n",
    "    df_val_filled['screen'] = df_val_filled['screen'].fillna(0)\n",
    "\n",
    "    # Prepare feature matrices\n",
    "    X_train = prepare_X(df_train_filled)\n",
    "    y_train = prepare_y(df_train_filled)\n",
    "    X_val = prepare_X(df_val_filled)\n",
    "    y_val = prepare_y(df_val_filled)\n",
    "\n",
    "    # Train the model with regularization\n",
    "    w_0, w = train_linear_regression_reg(X_train, y_train, r)\n",
    "\n",
    "    # Make predictions on validation set\n",
    "    y_pred = w_0 + X_val.dot(w)\n",
    "\n",
    "    # Compute RMSE on validation set\n",
    "    return rmse(y_val, y_pred)"
   ]
  },
  {
   "cell_type": "code",
   "execution_count": 26,
   "metadata": {},
   "outputs": [],
   "source": [
    "# Fill missing 'screen' values with 0 and evaluate for each r\n",
    "rmse_scores = []\n",
    "\n",
    "for r in r_values:\n",
    "    rmse_score = train_and_evaluate_reg(df_train, df_val,r)\n",
    "    rmse_scores.append((r, round(rmse_score, 2)))"
   ]
  },
  {
   "cell_type": "code",
   "execution_count": 27,
   "metadata": {},
   "outputs": [
    {
     "name": "stdout",
     "output_type": "stream",
     "text": [
      "RMSE for r=0: 597.36\n",
      "RMSE for r=0.01: 597.36\n",
      "RMSE for r=0.1: 597.35\n",
      "RMSE for r=1: 597.21\n",
      "RMSE for r=5: 597.01\n",
      "RMSE for r=10: 597.06\n",
      "RMSE for r=100: 597.9\n"
     ]
    }
   ],
   "source": [
    "# Print the RMSE scores for each r value\n",
    "for r, score in rmse_scores:\n",
    "    print(f\"RMSE for r={r}: {score}\")"
   ]
  },
  {
   "cell_type": "markdown",
   "metadata": {},
   "source": [
    "### Question 5"
   ]
  },
  {
   "cell_type": "code",
   "execution_count": 29,
   "metadata": {},
   "outputs": [],
   "source": [
    "# Split the data into train/val/test sets based on a given seed\n",
    "def split_data(df, seed):\n",
    "    n = len(df)\n",
    "\n",
    "    n_val = int(n * 0.2)\n",
    "    n_test = int(n * 0.2)\n",
    "    n_train = n - n_val - n_test\n",
    "\n",
    "    # Shuffle the dataset with the given seed\n",
    "    idx = np.arange(n)\n",
    "    np.random.seed(seed)\n",
    "    np.random.shuffle(idx)\n",
    "\n",
    "    # Split into training, validation, and test sets\n",
    "    df_train = df.iloc[idx[:n_train]]\n",
    "    df_val = df.iloc[idx[n_train:n_train + n_val]]\n",
    "    df_test = df.iloc[idx[n_train + n_val:]]\n",
    "    \n",
    "    return df_train, df_val, df_test"
   ]
  },
  {
   "cell_type": "code",
   "execution_count": 30,
   "metadata": {},
   "outputs": [],
   "source": [
    "# Train and evaluate model without regularization\n",
    "def train_and_evaluate_seed(df_train, df_val):\n",
    "    # Fill missing 'screen' values with 0\n",
    "    df_train_filled = df_train.copy()\n",
    "    df_val_filled = df_val.copy()\n",
    "\n",
    "    df_train_filled['screen'] = df_train_filled['screen'].fillna(0)\n",
    "    df_val_filled['screen'] = df_val_filled['screen'].fillna(0)\n",
    "\n",
    "    # Prepare feature matrices\n",
    "    X_train = prepare_X(df_train_filled)\n",
    "    y_train = prepare_y(df_train_filled)\n",
    "    X_val = prepare_X(df_val_filled)\n",
    "    y_val = prepare_y(df_val_filled)\n",
    "\n",
    "    # Train the model without regularization\n",
    "    w_0, w = train_linear_regression(X_train, y_train)\n",
    "\n",
    "    # Make predictions on validation set\n",
    "    y_pred = w_0 + X_val.dot(w)\n",
    "\n",
    "    # Compute RMSE on validation set\n",
    "    return rmse(y_val, y_pred)"
   ]
  },
  {
   "cell_type": "code",
   "execution_count": 32,
   "metadata": {},
   "outputs": [],
   "source": [
    "# List of seed values to try\n",
    "seeds = [0, 1, 2, 3, 4, 5, 6, 7, 8, 9]\n",
    "rmse_scores = []\n",
    "\n",
    "# Loop over each seed value, split the data, and compute RMSE\n",
    "for seed in seeds:\n",
    "    df_train, df_val, df_test = split_data(df, seed)\n",
    "    rmse_score = train_and_evaluate_seed(df_train, df_val)\n",
    "    rmse_scores.append(rmse_score)"
   ]
  },
  {
   "cell_type": "code",
   "execution_count": 34,
   "metadata": {},
   "outputs": [
    {
     "name": "stdout",
     "output_type": "stream",
     "text": [
      "RMSE scores for each seed: [565.45, 636.8, 588.96, 597.81, 571.96, 573.24, 647.34, 550.44, 587.33, 576.1]\n",
      "Standard deviation of RMSE scores: 29.176\n"
     ]
    }
   ],
   "source": [
    "# Compute standard deviation of RMSE scores\n",
    "rmse_std = np.std(rmse_scores)\n",
    "\n",
    "# Print RMSE scores and standard deviation rounded to 3 decimal places\n",
    "print(\"RMSE scores for each seed:\", [round(score, 2) for score in rmse_scores])\n",
    "print(\"Standard deviation of RMSE scores:\", round(rmse_std, 3))"
   ]
  },
  {
   "cell_type": "markdown",
   "metadata": {},
   "source": [
    "### Question 6"
   ]
  },
  {
   "cell_type": "code",
   "execution_count": 36,
   "metadata": {},
   "outputs": [],
   "source": [
    "# Split the data with seed 9\n",
    "df_train, df_val, df_test = split_data(df, seed=9)"
   ]
  },
  {
   "cell_type": "code",
   "execution_count": 38,
   "metadata": {},
   "outputs": [],
   "source": [
    "# Combine train and validation datasets\n",
    "df_train_full = pd.concat([df_train, df_val]).reset_index(drop=True)\n",
    "df_test_filled = df_test.copy()\n",
    "\n",
    "# Fill missing values in 'screen' column with 0 for both train and test sets\n",
    "df_train_full['screen'] = df_train_full['screen'].fillna(0)\n",
    "df_test_filled['screen'] = df_test_filled['screen'].fillna(0)"
   ]
  },
  {
   "cell_type": "code",
   "execution_count": 39,
   "metadata": {},
   "outputs": [],
   "source": [
    "# Prepare feature matrices for train and test sets\n",
    "X_train_full = prepare_X(df_train_full)\n",
    "y_train_full = prepare_y(df_train_full)\n",
    "X_test = prepare_X(df_test_filled)\n",
    "y_test = prepare_y(df_test_filled)"
   ]
  },
  {
   "cell_type": "code",
   "execution_count": 40,
   "metadata": {},
   "outputs": [],
   "source": [
    "#Train the regularized linear regression model with r=0.001\n",
    "w_0, w = train_linear_regression_reg(X_train_full, y_train_full, r=0.001)\n",
    "\n",
    "#Make predictions on the test set\n",
    "y_pred_test = w_0 + X_test.dot(w)\n",
    "\n",
    "#Compute RMSE on the test set\n",
    "rmse_test = rmse(y_test, y_pred_test)"
   ]
  },
  {
   "cell_type": "code",
   "execution_count": 41,
   "metadata": {},
   "outputs": [
    {
     "name": "stdout",
     "output_type": "stream",
     "text": [
      "RMSE on the test dataset: 608.61\n"
     ]
    }
   ],
   "source": [
    "print(f\"RMSE on the test dataset: {round(rmse_test, 2)}\")"
   ]
  }
 ],
 "metadata": {
  "kernelspec": {
   "display_name": "Python 3",
   "language": "python",
   "name": "python3"
  },
  "language_info": {
   "codemirror_mode": {
    "name": "ipython",
    "version": 3
   },
   "file_extension": ".py",
   "mimetype": "text/x-python",
   "name": "python",
   "nbconvert_exporter": "python",
   "pygments_lexer": "ipython3",
   "version": "3.11.2"
  }
 },
 "nbformat": 4,
 "nbformat_minor": 2
}
