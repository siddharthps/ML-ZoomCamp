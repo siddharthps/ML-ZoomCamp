{
 "cells": [
  {
   "cell_type": "markdown",
   "metadata": {},
   "source": [
    "In this homework, we'll deploy the Bank Marketing model from the homework 5. We already have a docker image for this model - we'll use it for deploying the model to Kubernetes. "
   ]
  },
  {
   "cell_type": "markdown",
   "metadata": {},
   "source": [
    "### Question 1: Deploy the model to Kubernetes"
   ]
  },
  {
   "cell_type": "markdown",
   "metadata": {},
   "source": [
    "The command to run the docker container is:\n",
    "``` bash\n",
    "docker pull svizor/zoomcamp-model:3.11.5-hw10\n",
    "docker run -it -p 9696:9696 svizor/zoomcamp-model:3.11.5-hw10\n",
    "```\n"
   ]
  },
  {
   "cell_type": "markdown",
   "metadata": {},
   "source": [
    "To test the model we can use the following code:\n",
    "``` python \n",
    "python q6_test.py\n"
   ]
  },
  {
   "cell_type": "markdown",
   "metadata": {},
   "source": [
    "This is the output of the test:\n",
    "```\n",
    "python q6_test.py\n",
    "{'has_subscribed': True, 'has_subscribed_probability': 0.756743795240796}\n",
    "```"
   ]
  },
  {
   "cell_type": "markdown",
   "metadata": {},
   "source": [
    "### Question 2"
   ]
  },
  {
   "cell_type": "code",
   "execution_count": 1,
   "metadata": {},
   "outputs": [
    {
     "name": "stdout",
     "output_type": "stream",
     "text": [
      "kind v0.25.0 go1.22.9 windows/amd64\n"
     ]
    }
   ],
   "source": [
    "!powershell kind version"
   ]
  },
  {
   "cell_type": "code",
   "execution_count": null,
   "metadata": {},
   "outputs": [
    {
     "name": "stderr",
     "output_type": "stream",
     "text": [
      "ERROR: failed to create cluster: node(s) already exist for a cluster with the name \"kind\"\n"
     ]
    }
   ],
   "source": [
    "!powershell kind create cluster  # create a cluster with the default name"
   ]
  },
  {
   "cell_type": "code",
   "execution_count": 3,
   "metadata": {},
   "outputs": [
    {
     "name": "stdout",
     "output_type": "stream",
     "text": [
      "Kubernetes control plane is running at https://127.0.0.1:52651\n",
      "CoreDNS is running at https://127.0.0.1:52651/api/v1/namespaces/kube-system/services/kube-dns:dns/proxy\n",
      "\n",
      "To further debug and diagnose cluster problems, use 'kubectl cluster-info dump'.\n"
     ]
    }
   ],
   "source": [
    "!powershell kubectl cluster-info # check if the cluster is running "
   ]
  },
  {
   "cell_type": "markdown",
   "metadata": {},
   "source": [
    "### Question 3"
   ]
  },
  {
   "cell_type": "markdown",
   "metadata": {},
   "source": [
    "The smallest deployment computing unit in kubernetes is a pod. A pod is a group of one or more containers, with shared storage/network resources, and a specification for how to run the containers."
   ]
  },
  {
   "cell_type": "markdown",
   "metadata": {},
   "source": [
    "### Question 4"
   ]
  },
  {
   "cell_type": "code",
   "execution_count": 7,
   "metadata": {},
   "outputs": [
    {
     "name": "stdout",
     "output_type": "stream",
     "text": [
      "NAME           TYPE           CLUSTER-IP     EXTERNAL-IP   PORT(S)        AGE\n",
      "kubernetes     ClusterIP      10.96.0.1      <none>        443/TCP        4h46m\n",
      "subscription   LoadBalancer   10.96.30.244   <pending>     80:30091/TCP   4h19m\n"
     ]
    }
   ],
   "source": [
    "!powershell kubectl get service # check the services running in the cluster"
   ]
  },
  {
   "cell_type": "markdown",
   "metadata": {},
   "source": [
    "### Question 5"
   ]
  },
  {
   "cell_type": "code",
   "execution_count": 8,
   "metadata": {},
   "outputs": [
    {
     "name": "stderr",
     "output_type": "stream",
     "text": [
      "Image: \"zoomcamp-model:3.11.5-hw10\" with ID \"sha256:020904a2523cec81c854a9b4679ae26d23f814e42350721136d1447f910a6b53\" found to be already present on all nodes.\n"
     ]
    }
   ],
   "source": [
    "!powershell kind load docker-image zoomcamp-model:3.11.5-hw10 # load the docker image into the cluster"
   ]
  },
  {
   "cell_type": "markdown",
   "metadata": {},
   "source": [
    "### Question 6"
   ]
  },
  {
   "cell_type": "markdown",
   "metadata": {},
   "source": [
    "image: zoomcamp-model:3.11.5-hw10 # the image name \\\n",
    "memory: \"128Mi\" # 128 mebibytes of memory\\\n",
    "cpu: \"200m\" # 0.2 of a core\\\n",
    "port : 9696 # the port the model is running on"
   ]
  },
  {
   "cell_type": "code",
   "execution_count": 9,
   "metadata": {},
   "outputs": [
    {
     "name": "stdout",
     "output_type": "stream",
     "text": [
      "deployment.apps/subscription unchanged\n"
     ]
    }
   ],
   "source": [
    "!powershell kubectl apply -f deployment.yaml # apply the deployment.yaml file to the cluster"
   ]
  },
  {
   "cell_type": "code",
   "execution_count": 10,
   "metadata": {},
   "outputs": [
    {
     "name": "stdout",
     "output_type": "stream",
     "text": [
      "NAME                           READY   STATUS    RESTARTS      AGE\n",
      "subscription-7b74b5846-p47hz   1/1     Running   1 (73s ago)   4h\n"
     ]
    }
   ],
   "source": [
    "!powershell kubectl get pods # check the pods running in the cluster"
   ]
  },
  {
   "cell_type": "markdown",
   "metadata": {},
   "source": [
    "### Question 7"
   ]
  },
  {
   "cell_type": "code",
   "execution_count": 11,
   "metadata": {},
   "outputs": [
    {
     "name": "stdout",
     "output_type": "stream",
     "text": [
      "service/subscription unchanged\n"
     ]
    }
   ],
   "source": [
    "!powershell kubectl apply -f service.yaml # apply the service.yaml file to the cluster"
   ]
  },
  {
   "cell_type": "code",
   "execution_count": 12,
   "metadata": {},
   "outputs": [
    {
     "name": "stdout",
     "output_type": "stream",
     "text": [
      "NAME                           READY   STATUS    RESTARTS      AGE\n",
      "subscription-7b74b5846-p47hz   1/1     Running   1 (80s ago)   4h\n"
     ]
    }
   ],
   "source": [
    "!powershell kubectl get pods # check the pods running in the cluster"
   ]
  },
  {
   "cell_type": "code",
   "execution_count": 13,
   "metadata": {},
   "outputs": [
    {
     "name": "stdout",
     "output_type": "stream",
     "text": [
      "^C\n"
     ]
    },
    {
     "name": "stdout",
     "output_type": "stream",
     "text": [
      "Forwarding from 127.0.0.1:9696 -> 9696\n",
      "Forwarding from [::1]:9696 -> 9696\n"
     ]
    }
   ],
   "source": [
    "!powershell kubectl port-forward pod/subscription-7b74b5846-p47hz 9696:9696 # port forward the pod to the localhost"
   ]
  },
  {
   "cell_type": "code",
   "execution_count": 14,
   "metadata": {},
   "outputs": [
    {
     "name": "stdout",
     "output_type": "stream",
     "text": [
      "{'has_subscribed': True, 'has_subscribed_probability': 0.756743795240796}\n"
     ]
    }
   ],
   "source": [
    "!python q6_test.py # run the test script to check if the service is working correctly"
   ]
  },
  {
   "cell_type": "markdown",
   "metadata": {},
   "source": [
    "This is the same result as the one we got above when we ran just the docker container. "
   ]
  },
  {
   "cell_type": "markdown",
   "metadata": {},
   "source": [
    "### Followup HPA"
   ]
  },
  {
   "cell_type": "code",
   "execution_count": 15,
   "metadata": {},
   "outputs": [
    {
     "name": "stderr",
     "output_type": "stream",
     "text": [
      "Error from server (AlreadyExists): horizontalpodautoscalers.autoscaling \"subscription-hpa\" already exists\n"
     ]
    }
   ],
   "source": [
    "!powershell kubectl autoscale deployment subscription --name subscription-hpa --cpu-percent=20 --min=1 --max=3 # autoscale the deployment"
   ]
  },
  {
   "cell_type": "code",
   "execution_count": 16,
   "metadata": {},
   "outputs": [
    {
     "name": "stdout",
     "output_type": "stream",
     "text": [
      "NAME               REFERENCE                 TARGETS              MINPODS   MAXPODS   REPLICAS   AGE\n",
      "subscription-hpa   Deployment/subscription   cpu: <unknown>/20%   1         3         1          179m\n"
     ]
    }
   ],
   "source": [
    "!powershell kubectl get hpa # check the horizontal pod autoscaler"
   ]
  },
  {
   "cell_type": "code",
   "execution_count": 21,
   "metadata": {},
   "outputs": [
    {
     "name": "stdout",
     "output_type": "stream",
     "text": [
      "NAME                                         READY   STATUS    RESTARTS        AGE\n",
      "coredns-7c65d6cfc9-6zrx8                     1/1     Running   1 (4m29s ago)   4h49m\n",
      "coredns-7c65d6cfc9-s94tr                     1/1     Running   1 (4m29s ago)   4h49m\n",
      "etcd-kind-control-plane                      1/1     Running   1 (4m29s ago)   4h49m\n",
      "kindnet-pjxks                                1/1     Running   1 (4m29s ago)   4h49m\n",
      "kube-apiserver-kind-control-plane            1/1     Running   1 (4m29s ago)   4h49m\n",
      "kube-controller-manager-kind-control-plane   1/1     Running   1 (4m29s ago)   4h49m\n",
      "kube-proxy-xffh8                             1/1     Running   1 (4m29s ago)   4h49m\n",
      "kube-scheduler-kind-control-plane            1/1     Running   1 (4m29s ago)   4h49m\n",
      "metrics-server-587b667b55-jk6k9              1/1     Running   0               81s\n"
     ]
    }
   ],
   "source": [
    "!powershell kubectl get pods -n kube-system # check the pods running in the kube-system namespace\n"
   ]
  },
  {
   "cell_type": "code",
   "execution_count": 18,
   "metadata": {},
   "outputs": [
    {
     "name": "stdout",
     "output_type": "stream",
     "text": [
      "deployment.apps/metrics-server patched\n"
     ]
    }
   ],
   "source": [
    "!powershell kubectl patch deployment metrics-server -n kube-system --type='json' -p='[{\"op\": \"add\", \"path\": \"/spec/template/spec/containers/0/args/-\", \"value\": \"--kubelet-insecure-tls\"}]'"
   ]
  },
  {
   "cell_type": "code",
   "execution_count": 22,
   "metadata": {},
   "outputs": [
    {
     "name": "stdout",
     "output_type": "stream",
     "text": [
      "NAME               REFERENCE                 TARGETS       MINPODS   MAXPODS   REPLICAS   AGE\n",
      "subscription-hpa   Deployment/subscription   cpu: 1%/20%   1         3         1          3h1m\n"
     ]
    }
   ],
   "source": [
    "!powershell kubectl get hpa # check the horizontal pod autoscaler"
   ]
  },
  {
   "cell_type": "markdown",
   "metadata": {},
   "source": [
    "This shows that the horizontal pod autoscaler and the metrics server are working correctly.  We will now try to test the autoscaler by sending a lot of requests to the model."
   ]
  },
  {
   "cell_type": "markdown",
   "metadata": {},
   "source": [
    "### Question 8"
   ]
  },
  {
   "cell_type": "code",
   "execution_count": 24,
   "metadata": {},
   "outputs": [
    {
     "name": "stdout",
     "output_type": "stream",
     "text": [
      "^C\n"
     ]
    }
   ],
   "source": [
    "!python q6_test_hpa.py # run the test script to check if the service is working correctly with the horizontal pod autoscaler"
   ]
  },
  {
   "cell_type": "code",
   "execution_count": 25,
   "metadata": {},
   "outputs": [
    {
     "name": "stdout",
     "output_type": "stream",
     "text": [
      "^C\n"
     ]
    }
   ],
   "source": [
    "!powershell kubectl get hpa subscription-hpa --watch # check the horizontal pod autoscaler"
   ]
  },
  {
   "cell_type": "markdown",
   "metadata": {},
   "source": [
    "I could get the hpa to work by sending a lot of requests to the model using the hpa test script python file . Unfortunately it never needed to scale up because the model was able to handle the requests without any issues. "
   ]
  }
 ],
 "metadata": {
  "kernelspec": {
   "display_name": "Python 3",
   "language": "python",
   "name": "python3"
  },
  "language_info": {
   "codemirror_mode": {
    "name": "ipython",
    "version": 3
   },
   "file_extension": ".py",
   "mimetype": "text/x-python",
   "name": "python",
   "nbconvert_exporter": "python",
   "pygments_lexer": "ipython3",
   "version": "3.11.2"
  }
 },
 "nbformat": 4,
 "nbformat_minor": 2
}
